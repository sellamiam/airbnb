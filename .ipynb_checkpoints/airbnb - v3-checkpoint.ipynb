{
 "cells": [
  {
   "cell_type": "code",
   "execution_count": 2,
   "metadata": {},
   "outputs": [
    {
     "name": "stdout",
     "output_type": "stream",
     "text": [
      "[None, '', None, '', None, []]\n",
      "['TORONTO’s Airbnb unit of the year.', 'Toronto', '$99', '254 reviews', '4.68', ['3 guests', '1 bedroom', '1 bed', '1 bath', '\\U000f0004\\n254 Reviews', '\\U000f0019\\nVerified']]\n",
      "['Private Downtown Center Room/Clean/Quiet', 'Toronto', None, None, '4.81', ['1 guest', '1 bedroom', '1 bed', '1 shared bath', '\\U000f0004\\n722 Reviews', '\\U000f0019\\nVerified']]\n"
     ]
    },
    {
     "ename": "KeyboardInterrupt",
     "evalue": "",
     "output_type": "error",
     "traceback": [
      "\u001b[0;31m---------------------------------------------------------------------------\u001b[0m",
      "\u001b[0;31mKeyboardInterrupt\u001b[0m                         Traceback (most recent call last)",
      "\u001b[0;32m<ipython-input-2-934a6ad6293c>\u001b[0m in \u001b[0;36m<module>\u001b[0;34m()\u001b[0m\n\u001b[1;32m     81\u001b[0m \u001b[0;34m\u001b[0m\u001b[0m\n\u001b[1;32m     82\u001b[0m \u001b[0;34m\u001b[0m\u001b[0m\n\u001b[0;32m---> 83\u001b[0;31m \u001b[0mhome_page\u001b[0m\u001b[0;34m(\u001b[0m\u001b[0;34m)\u001b[0m\u001b[0;34m\u001b[0m\u001b[0m\n\u001b[0m\u001b[1;32m     84\u001b[0m \u001b[0;34m\u001b[0m\u001b[0m\n",
      "\u001b[0;32m<ipython-input-2-934a6ad6293c>\u001b[0m in \u001b[0;36mhome_page\u001b[0;34m()\u001b[0m\n\u001b[1;32m     24\u001b[0m                     \u001b[0;32mif\u001b[0m \u001b[0mlink\u001b[0m \u001b[0;32mnot\u001b[0m \u001b[0;32min\u001b[0m \u001b[0mlink_list_hp\u001b[0m\u001b[0;34m:\u001b[0m\u001b[0;34m\u001b[0m\u001b[0m\n\u001b[1;32m     25\u001b[0m                         \u001b[0mlink_list_hp\u001b[0m\u001b[0;34m.\u001b[0m\u001b[0mappend\u001b[0m\u001b[0;34m(\u001b[0m\u001b[0mlink\u001b[0m\u001b[0;34m)\u001b[0m\u001b[0;34m\u001b[0m\u001b[0m\n\u001b[0;32m---> 26\u001b[0;31m                         \u001b[0mparse\u001b[0m\u001b[0;34m(\u001b[0m\u001b[0mlink\u001b[0m\u001b[0;34m)\u001b[0m\u001b[0;34m\u001b[0m\u001b[0m\n\u001b[0m\u001b[1;32m     27\u001b[0m \u001b[0;34m\u001b[0m\u001b[0m\n\u001b[1;32m     28\u001b[0m \u001b[0;32mdef\u001b[0m \u001b[0mparse\u001b[0m\u001b[0;34m(\u001b[0m\u001b[0mlink\u001b[0m\u001b[0;34m)\u001b[0m\u001b[0;34m:\u001b[0m\u001b[0;34m\u001b[0m\u001b[0m\n",
      "\u001b[0;32m<ipython-input-2-934a6ad6293c>\u001b[0m in \u001b[0;36mparse\u001b[0;34m(link)\u001b[0m\n\u001b[1;32m     38\u001b[0m         \u001b[0murl\u001b[0m \u001b[0;34m=\u001b[0m \u001b[0;34m(\u001b[0m\u001b[0;34m\"https://www.airbnb.ca\"\u001b[0m\u001b[0;34m+\u001b[0m\u001b[0mstr\u001b[0m\u001b[0;34m(\u001b[0m\u001b[0murl\u001b[0m\u001b[0;34m)\u001b[0m\u001b[0;34m)\u001b[0m\u001b[0;34m\u001b[0m\u001b[0m\n\u001b[1;32m     39\u001b[0m         \u001b[0mdriver\u001b[0m\u001b[0;34m.\u001b[0m\u001b[0mget\u001b[0m\u001b[0;34m(\u001b[0m\u001b[0murl\u001b[0m\u001b[0;34m)\u001b[0m\u001b[0;34m\u001b[0m\u001b[0m\n\u001b[0;32m---> 40\u001b[0;31m         \u001b[0mtime\u001b[0m\u001b[0;34m.\u001b[0m\u001b[0msleep\u001b[0m\u001b[0;34m(\u001b[0m\u001b[0;36m7\u001b[0m\u001b[0;34m)\u001b[0m\u001b[0;34m\u001b[0m\u001b[0m\n\u001b[0m\u001b[1;32m     41\u001b[0m \u001b[0;34m\u001b[0m\u001b[0m\n\u001b[1;32m     42\u001b[0m         \u001b[0;32mtry\u001b[0m\u001b[0;34m:\u001b[0m\u001b[0;34m\u001b[0m\u001b[0m\n",
      "\u001b[0;31mKeyboardInterrupt\u001b[0m: "
     ]
    }
   ],
   "source": [
    "from bs4 import BeautifulSoup as bs\n",
    "import requests\n",
    "from selenium import webdriver\n",
    "import time\n",
    "hp = \"https://www.airbnb.ca/s/Toronto--ON/homes\"\n",
    "link_list_hp = []\n",
    "house_title_list = []\n",
    "\n",
    "def home_page():\n",
    "    if hp not in link_list_hp:\n",
    "        page = requests.get(hp)\n",
    "        soup = bs(page.text, \"lxml\")\n",
    "        match = soup.find_all(class_=\"_1wtrbgoo\")\n",
    "        for i in match:\n",
    "            link = (\"https://www.airbnb.ca\"+str(i[\"href\"]))\n",
    "            if link not in link_list_hp:\n",
    "                link_list_hp.append(link)\n",
    "            for link in link_list_hp:\n",
    "                page = requests.get(link)\n",
    "                soup = bs(page.text, \"lxml\")\n",
    "                match = soup.find_all(class_=\"_1ip5u88\")\n",
    "                for i in match:\n",
    "                    link = (\"https://www.airbnb.ca\"+str(i[\"href\"]))\n",
    "                    if link not in link_list_hp:\n",
    "                        link_list_hp.append(link)\n",
    "                        parse(link)\n",
    "\n",
    "def parse(link):\n",
    "    page = requests.get(link)\n",
    "    soup = bs(page.text, \"lxml\")\n",
    "    match = soup.find_all('a', href=True)\n",
    "    link_list = []\n",
    "    for i in match:\n",
    "        link = i[\"href\"]\n",
    "        link_list.append(link)  \n",
    "    for url in link_list[2:]:\n",
    "        driver = webdriver.Chrome(\"/Users/mohamedsellamia/airbnb/chromedriver\") #pls use chromedriver.exe for windows and set the path\n",
    "        url = (\"https://www.airbnb.ca\"+str(url))\n",
    "        driver.get(url)\n",
    "        time.sleep(7)\n",
    "\n",
    "        try:\n",
    "            house_title = driver.find_element_by_xpath('//h1/span[@class=\"_18hrqvin\"]').text\n",
    "        except:\n",
    "            house_title = None\n",
    "        try:\n",
    "            house_location =  driver.find_element_by_xpath('//div[@class=\"_czm8crp\"]').text\n",
    "        except:\n",
    "            house_location = None\n",
    "   \n",
    "        try:\n",
    "            price = driver.find_element_by_xpath('//span/span[@class=\"_doc79r\"]').text\n",
    "        except:\n",
    "            price = None        \n",
    "\n",
    "        try:\n",
    "            no_of_reviews = driver.find_element_by_xpath('//div[@class=\"_14hveccc\"]').text\n",
    "        except:\n",
    "            no_of_reviews = None  \n",
    "\n",
    "  \n",
    "        try:\n",
    "            rating = driver.find_element_by_xpath('//div[@class=\"_10za72m2\"]').text\n",
    "\n",
    "        except:\n",
    "            rating = None\n",
    "     \n",
    "        try:\n",
    "            max_occupancy = driver.find_elements_by_xpath('//div/div[@class=\"_36rlri\"]/div[@class=\"_czm8crp\"]')\n",
    "            house_detail = [detail.text for detail in max_occupancy ]\n",
    "\n",
    "        except:\n",
    "\n",
    "            house_detail = None\n",
    "        if house_title not in house_title_list:\n",
    "            house_title_list.append(house_title)\n",
    "            print ([house_title, house_location, price, no_of_reviews, rating, house_detail])\n",
    "            driver.close()\n",
    "        else:\n",
    "            driver.close()\n",
    "\n",
    "\n",
    "home_page()\n",
    "                    \n"
   ]
  },
  {
   "cell_type": "code",
   "execution_count": null,
   "metadata": {
    "collapsed": true
   },
   "outputs": [],
   "source": []
  }
 ],
 "metadata": {
  "kernelspec": {
   "display_name": "Python 3",
   "language": "python",
   "name": "python3"
  },
  "language_info": {
   "codemirror_mode": {
    "name": "ipython",
    "version": 3
   },
   "file_extension": ".py",
   "mimetype": "text/x-python",
   "name": "python",
   "nbconvert_exporter": "python",
   "pygments_lexer": "ipython3",
   "version": "3.6.3"
  }
 },
 "nbformat": 4,
 "nbformat_minor": 2
}
