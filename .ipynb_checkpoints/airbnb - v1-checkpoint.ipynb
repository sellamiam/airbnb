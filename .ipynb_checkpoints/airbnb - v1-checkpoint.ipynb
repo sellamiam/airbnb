{
 "cells": [
  {
   "cell_type": "code",
   "execution_count": null,
   "metadata": {},
   "outputs": [
    {
     "name": "stdout",
     "output_type": "stream",
     "text": [
      "['Luxurious Condo near CN Tower with FREE PARKING', 'Toronto', None, None, '4.80', ['4 guests', '1 bedroom', '2 beds', '1 bath', '\\U000f0004\\n809 Reviews', '\\U000f0019\\nVerified']]\n",
      "['*City View Studio 3 mins to University and Subway*', 'Toronto', '$101', '41 reviews', '4.95', ['3 guests', 'Studio', '2 beds', '1 bath', '\\U000f0004\\n41 Reviews', '\\U000f0019\\nVerified']]\n"
     ]
    }
   ],
   "source": [
    "from bs4 import BeautifulSoup as bs\n",
    "import requests\n",
    "from selenium import webdriver\n",
    "import time\n",
    "home_page = \"https://www.airbnb.ca/s/Toronto--ON/homes\"\n",
    "page = requests.get(home_page)\n",
    "soup = bs(page.text, \"lxml\")\n",
    "match = soup.find_all('a', href=True)\n",
    "link_list = []\n",
    "for i in match:\n",
    "    link = i[\"href\"]\n",
    "    link_list.append(link)  \n",
    "for url in link_list[2:20]:\n",
    "    driver = webdriver.Chrome(\"/Users/msellamia/airbnb/chromedriver\") #pls use chromedriver.exe for windows and set the path\n",
    "    url = (\"https://www.airbnb.ca\"+str(url))\n",
    "    driver.get(url)\n",
    "    time.sleep(6)\n",
    " \n",
    "    try:\n",
    "        house_title = driver.find_element_by_xpath('//h1/span[@class=\"_18hrqvin\"]').text\n",
    "    except:\n",
    "        house_title = None\n",
    "    try:\n",
    "        house_location =  driver.find_element_by_xpath('//div[@class=\"_czm8crp\"]').text\n",
    "    except:\n",
    "        house_location = None\n",
    "            \n",
    "    time.sleep(3)    \n",
    "    try:\n",
    "        price = driver.find_element_by_xpath('//span/span[@class=\"_doc79r\"]').text\n",
    "    except:\n",
    "        price = None        \n",
    "\n",
    "    try:\n",
    "        no_of_reviews = driver.find_element_by_xpath('//div[@class=\"_14hveccc\"]').text\n",
    "    except:\n",
    "        no_of_reviews = None  \n",
    "        \n",
    "    time.sleep(3.5)    \n",
    "    try:\n",
    "        rating = driver.find_element_by_xpath('//div[@class=\"_10za72m2\"]').text\n",
    "\n",
    "    except:\n",
    "        rating = None\n",
    "\n",
    "    time.sleep(2)        \n",
    "    try:\n",
    "        max_occupancy = driver.find_elements_by_xpath('//div/div[@class=\"_36rlri\"]/div[@class=\"_czm8crp\"]')\n",
    "        house_detail = [detail.text for detail in max_occupancy ]\n",
    "\n",
    "    except:\n",
    "     \n",
    "        house_detail = None\n",
    "    print ([house_title, house_location, price, no_of_reviews, rating, house_detail])"
   ]
  },
  {
   "cell_type": "code",
   "execution_count": null,
   "metadata": {},
   "outputs": [],
   "source": []
  }
 ],
 "metadata": {
  "kernelspec": {
   "display_name": "Python 3",
   "language": "python",
   "name": "python3"
  },
  "language_info": {
   "codemirror_mode": {
    "name": "ipython",
    "version": 3
   },
   "file_extension": ".py",
   "mimetype": "text/x-python",
   "name": "python",
   "nbconvert_exporter": "python",
   "pygments_lexer": "ipython3",
   "version": "3.7.0"
  }
 },
 "nbformat": 4,
 "nbformat_minor": 2
}
