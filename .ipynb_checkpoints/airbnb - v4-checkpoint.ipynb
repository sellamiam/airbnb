{
 "cells": [
  {
   "cell_type": "code",
   "execution_count": 9,
   "metadata": {},
   "outputs": [
    {
     "ename": "IndentationError",
     "evalue": "unindent does not match any outer indentation level (<tokenize>, line 47)",
     "output_type": "error",
     "traceback": [
      "\u001b[0;36m  File \u001b[0;32m\"<tokenize>\"\u001b[0;36m, line \u001b[0;32m47\u001b[0m\n\u001b[0;31m    except:\u001b[0m\n\u001b[0m    ^\u001b[0m\n\u001b[0;31mIndentationError\u001b[0m\u001b[0;31m:\u001b[0m unindent does not match any outer indentation level\n"
     ]
    }
   ],
   "source": [
    "from bs4 import BeautifulSoup as bs\n",
    "import requests\n",
    "from selenium import webdriver\n",
    "import time\n",
    "hp = \"https://www.airbnb.ca/s/Toronto--ON/homes\"\n",
    "link_list_hp = []\n",
    "house_title_list = []\n",
    "\n",
    "def home_page():\n",
    "    if hp not in link_list_hp:\n",
    "        link_list_hp.append(hp)\n",
    "        page = requests.get(hp)\n",
    "        soup = bs(page.text, \"lxml\")\n",
    "        match = soup.find_all(class_=\"_1wtrbgoo\")\n",
    "        for i in match:\n",
    "            link = (\"https://www.airbnb.ca\"+str(i[\"href\"]))\n",
    "            if link not in link_list_hp:\n",
    "                link_list_hp.append(link)\n",
    "            \n",
    "            for link in link_list_hp:\n",
    "                page = requests.get(link)\n",
    "                soup = bs(page.text, \"lxml\")\n",
    "                match = soup.find_all(class_=\"_1ip5u88\")\n",
    "                for i in match:\n",
    "                    link = (\"https://www.airbnb.ca\"+str(i[\"href\"]))\n",
    "                    if link not in link_list_hp:\n",
    "                        link_list_hp.append(link)\n",
    "            for link in  link_list_hp: \n",
    "                page = requests.get(link)\n",
    "                soup = bs(page.text, \"lxml\")\n",
    "                match = soup.find_all('a', href=True)\n",
    "                link_list = []\n",
    "                for i in match:\n",
    "                    link = i[\"href\"]\n",
    "                    link_list.append(link)  \n",
    "                        for url in link_list[2:]:\n",
    "                            driver = webdriver.Chrome(\"/Users/mohamedsellamia/airbnb/chromedriver\") #pls use chromedriver.exe for windows and set the path\n",
    "                            url = (\"https://www.airbnb.ca\"+str(url))\n",
    "                            driver.get(url)\n",
    "                            time.sleep(7)\n",
    "                            try:\n",
    "                                house_title = driver.find_element_by_xpath('//h1/span[@class=\"_18hrqvin\"]').text\n",
    "                            except:\n",
    "                                house_title = None\n",
    "                            try:\n",
    "                                    house_location =  driver.find_element_by_xpath('//div[@class=\"_czm8crp\"]').text\n",
    "                                except:\n",
    "                                    house_location = None\n",
    "\n",
    "                                try:\n",
    "                                    price = driver.find_element_by_xpath('//span/span[@class=\"_doc79r\"]').text\n",
    "                                except:\n",
    "                                    price = None        \n",
    "\n",
    "                                try:\n",
    "                                    no_of_reviews = driver.find_element_by_xpath('//div[@class=\"_14hveccc\"]').text\n",
    "                                except:\n",
    "                                    no_of_reviews = None  \n",
    "\n",
    "\n",
    "                                try:\n",
    "                                    rating = driver.find_element_by_xpath('//div[@class=\"_10za72m2\"]').text\n",
    "\n",
    "                                except:\n",
    "                                    rating = None\n",
    "\n",
    "                                try:\n",
    "                                    max_occupancy = driver.find_elements_by_xpath('//div/div[@class=\"_36rlri\"]/div[@class=\"_czm8crp\"]')\n",
    "                                    house_detail = [detail.text for detail in max_occupancy ]\n",
    "\n",
    "                                except:\n",
    "\n",
    "                                    house_detail = None\n",
    "                                if house_title not in house_title_list:\n",
    "                                    house_title_list.append(house_title)\n",
    "                                    print ([house_title, house_location, price, no_of_reviews, rating, house_detail])\n",
    "                                    driver.close()\n",
    "                                else:\n",
    "\n",
    "                                    driver.close()\n",
    "\n",
    "home_page()\n",
    "\n"
   ]
  },
  {
   "cell_type": "code",
   "execution_count": 1,
   "metadata": {
    "collapsed": true
   },
   "outputs": [],
   "source": [
    "from bs4 import BeautifulSoup as bs\n",
    "import requests\n",
    "from selenium import webdriver\n",
    "import time\n",
    "hp = \"https://www.airbnb.ca/s/Toronto--ON/homes\"\n",
    "link_list_hp = []\n",
    "house_title_list = []\n",
    "def home_page():\n",
    "    if hp not in link_list_hp:\n",
    "        page = requests.get(hp)\n",
    "        soup = bs(page.text, \"lxml\")\n",
    "        match = soup.find_all(class_=\"_1wtrbgoo\")\n",
    "        for i in match:\n",
    "            link = (\"https://www.airbnb.ca\"+str(i[\"href\"]))\n",
    "            if link not in link_list_hp:\n",
    "                link_list_hp.append(link)\n",
    "        for link in link_list_hp:\n",
    "            page = requests.get(link)\n",
    "            soup = bs(page.text, \"lxml\")\n",
    "            match = soup.find_all(class_=\"_1ip5u88\")\n",
    "            for i in match:\n",
    "                link = (\"https://www.airbnb.ca\"+str(i[\"href\"]))\n",
    "                if link not in link_list_hp:\n",
    "                    link_list_hp.append(link)"
   ]
  },
  {
   "cell_type": "code",
   "execution_count": null,
   "metadata": {},
   "outputs": [],
   "source": [
    "home_page()\n"
   ]
  },
  {
   "cell_type": "code",
   "execution_count": null,
   "metadata": {},
   "outputs": [],
   "source": [
    "link_list_hp"
   ]
  },
  {
   "cell_type": "code",
   "execution_count": null,
   "metadata": {
    "collapsed": true
   },
   "outputs": [],
   "source": [
    "   for link in link_list_hp:\n",
    "                page = requests.get(link)\n",
    "                soup = bs(page.text, \"lxml\")\n",
    "                match = soup.find_all(class_=\"_1ip5u88\")\n",
    "                for i in match:\n",
    "                    link = (\"https://www.airbnb.ca\"+str(i[\"href\"]))\n",
    "                    if link not in link_list_hp:\n",
    "                        link_list_hp.append(link)"
   ]
  }
 ],
 "metadata": {
  "kernelspec": {
   "display_name": "Python 3",
   "language": "python",
   "name": "python3"
  },
  "language_info": {
   "codemirror_mode": {
    "name": "ipython",
    "version": 3
   },
   "file_extension": ".py",
   "mimetype": "text/x-python",
   "name": "python",
   "nbconvert_exporter": "python",
   "pygments_lexer": "ipython3",
   "version": "3.6.3"
  }
 },
 "nbformat": 4,
 "nbformat_minor": 2
}
